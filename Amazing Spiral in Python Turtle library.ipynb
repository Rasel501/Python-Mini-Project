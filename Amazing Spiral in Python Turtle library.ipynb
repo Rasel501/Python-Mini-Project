{
 "cells": [
  {
   "cell_type": "code",
   "execution_count": 2,
   "id": "ee324482",
   "metadata": {},
   "outputs": [],
   "source": [
    "import turtle"
   ]
  },
  {
   "cell_type": "code",
   "execution_count": null,
   "id": "9d253a7c",
   "metadata": {},
   "outputs": [],
   "source": [
    "#clcoding.com\n",
    "t = turtle.Turtle()\n",
    "s = turtle.Screen()\n",
    "s.bgcolor(\"black\")\n",
    "t.width(2)\n",
    "t.speed(15)\n",
    "\n",
    "col = ('white','pink','cyan')\n",
    "for i in range (300):\n",
    "    t.pencolor(col[i%3])\n",
    "    t.forward(i*4)\n",
    "    t.right(121)"
   ]
  },
  {
   "cell_type": "code",
   "execution_count": null,
   "id": "071b576a",
   "metadata": {},
   "outputs": [],
   "source": []
  }
 ],
 "metadata": {
  "kernelspec": {
   "display_name": "Python 3 (ipykernel)",
   "language": "python",
   "name": "python3"
  },
  "language_info": {
   "codemirror_mode": {
    "name": "ipython",
    "version": 3
   },
   "file_extension": ".py",
   "mimetype": "text/x-python",
   "name": "python",
   "nbconvert_exporter": "python",
   "pygments_lexer": "ipython3",
   "version": "3.8.8"
  }
 },
 "nbformat": 4,
 "nbformat_minor": 5
}
