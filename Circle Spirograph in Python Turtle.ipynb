{
 "cells": [
  {
   "cell_type": "code",
   "execution_count": 1,
   "id": "4492dc6a",
   "metadata": {},
   "outputs": [],
   "source": [
    "import turtle\n",
    "\n",
    "t = turtle.Turtle()\n",
    "s = turtle.Screen()\n",
    "s.bgcolor(\"black\")\n",
    "t.pensize(2)    #PenSize\n",
    "t.speed(12)     #Speed\n",
    "for i in range(6):\n",
    "    for col in (\"red\",\"magenta\"\n",
    "                ,\"blue\",\"cyan\",\n",
    "                \"green\",\"yellow\"):\n",
    "        t.color(col)\n",
    "        t.circle(150)\n",
    "\n",
    "        t.left(10)\n",
    "        \n",
    "turtle.mainloop() "
   ]
  }
 ],
 "metadata": {
  "kernelspec": {
   "display_name": "Python 3 (ipykernel)",
   "language": "python",
   "name": "python3"
  },
  "language_info": {
   "codemirror_mode": {
    "name": "ipython",
    "version": 3
   },
   "file_extension": ".py",
   "mimetype": "text/x-python",
   "name": "python",
   "nbconvert_exporter": "python",
   "pygments_lexer": "ipython3",
   "version": "3.8.8"
  }
 },
 "nbformat": 4,
 "nbformat_minor": 5
}
