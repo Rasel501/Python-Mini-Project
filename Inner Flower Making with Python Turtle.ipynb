{
 "cells": [
  {
   "cell_type": "code",
   "execution_count": 1,
   "id": "98ff7dd5",
   "metadata": {},
   "outputs": [],
   "source": [
    "import turtle \n",
    "import math \n",
    "import colorsys \n",
    "\n",
    "phi = 180 * (3 - math.sqrt(5)) \n",
    " \n",
    "t = turtle.Pen() \n",
    "t.speed(0) \n",
    " \n",
    "def square(t, size): \n",
    "    for tmp in range(0,4): \n",
    "        t.forward(size) \n",
    "        t.right(90) \n",
    " \n",
    " \n",
    "num = 200 \n",
    "\n",
    "for x in reversed(range(0, num)): \n",
    "    t.fillcolor(colorsys.hsv_to_rgb(x/num, 1.0, 1.0)) \n",
    "    t.begin_fill() \n",
    "    t.circle(5 + x, None, 11) \n",
    "    square(t, 5 + x) \n",
    "    t.end_fill() \n",
    "    t.right(phi) \n",
    "    t.right(.8) \n",
    " \n",
    "turtle.mainloop() "
   ]
  }
 ],
 "metadata": {
  "kernelspec": {
   "display_name": "Python 3 (ipykernel)",
   "language": "python",
   "name": "python3"
  },
  "language_info": {
   "codemirror_mode": {
    "name": "ipython",
    "version": 3
   },
   "file_extension": ".py",
   "mimetype": "text/x-python",
   "name": "python",
   "nbconvert_exporter": "python",
   "pygments_lexer": "ipython3",
   "version": "3.8.8"
  }
 },
 "nbformat": 4,
 "nbformat_minor": 5
}
